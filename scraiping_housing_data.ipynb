{
 "cells": [
  {
   "cell_type": "code",
   "execution_count": 3,
   "id": "5e96e319",
   "metadata": {},
   "outputs": [],
   "source": [
    "from bs4 import BeautifulSoup\n",
    "import requests\n",
    "import pandas as pd\n",
    "from pandas import Series, DataFrame\n",
    "import time"
   ]
  },
  {
   "cell_type": "code",
   "execution_count": 13,
   "id": "dfdaeede",
   "metadata": {},
   "outputs": [],
   "source": [
    "url = \"https://suumo.jp/jj/chintai/ichiran/FR301FC001/?ar=030&bs=040&ta=13&sc=13101&sc=13102&sc=13103&sc=13104&sc=13105&sc=13113&sc=13106&sc=13107&sc=13108&sc=13118&sc=13121&sc=13122&sc=13123&sc=13109&sc=13110&sc=13111&sc=13112&sc=13114&sc=13115&sc=13120&sc=13116&sc=13117&sc=13119&cb=0.0&ct=9999999&mb=0&mt=9999999&et=9999999&cn=9999999&shkr1=03&shkr2=03&shkr3=03&shkr4=03&sngz=&po1=25&pc=50\"\n",
    "\n",
    "result = requests.get(url)\n",
    "content = result.content\n",
    "soup = BeautifulSoup(content)"
   ]
  },
  {
   "cell_type": "code",
   "execution_count": 22,
   "id": "b2abf317",
   "metadata": {
    "scrolled": true
   },
   "outputs": [],
   "source": [
    "pages_set = soup.find('div', {'class': 'pagination_set-nav'}).text\n",
    "pages_text = str(pages_set)\n",
    "pages_split = pages_text.split()\n",
    "page = int(pages_split[5])"
   ]
  },
  {
   "cell_type": "code",
   "execution_count": 24,
   "id": "7cd1d3c1",
   "metadata": {},
   "outputs": [],
   "source": [
    "urls = [url]\n",
    "\n",
    "for num in range(2, page+1):\n",
    "    page_url = url + '&=' + str(num)\n",
    "    urls.append(page_url)"
   ]
  },
  {
   "cell_type": "code",
   "execution_count": 26,
   "id": "e24cc357",
   "metadata": {},
   "outputs": [],
   "source": [
    "name = []  # 建物名\n",
    "address = []  # 住所\n",
    "station1 = []  # 最寄り\n",
    "station2 = []\n",
    "station3 = []\n",
    "age = []  # 築年数\n",
    "floor = []  # 階数\n",
    "rent = []  # 賃料\n",
    "admin = []  # 管理費\n",
    "plan = []  # 間取り\n",
    "area = []  # 面積\n",
    "deposit = []  # 敷金\n",
    "keymoney = []  # 礼金"
   ]
  },
  {
   "cell_type": "code",
   "execution_count": 83,
   "id": "2698fa70",
   "metadata": {},
   "outputs": [
    {
     "name": "stdout",
     "output_type": "stream",
     "text": [
      "['都営大江戸線/西新宿五丁目駅', '7', '京王新線/初台駅', '13', '東京メトロ丸ノ内線/中野新橋駅', '11']\n"
     ]
    }
   ],
   "source": [
    "a = soup.find('li', {'class': 'cassetteitem_detail-col2'}).text\n",
    "print(a.replace('分', '').replace('歩', '').strip().split())"
   ]
  },
  {
   "cell_type": "code",
   "execution_count": 31,
   "id": "338725be",
   "metadata": {},
   "outputs": [
    {
     "name": "stdout",
     "output_type": "stream",
     "text": [
      "パークハビオ渋谷本町レジデンス\n",
      "CB日暮里ボヌール\n",
      "Villa Del SolII\n",
      "ジェノヴィア隅田川ウエストスカイガーデン\n",
      "CB町屋ミルト\n",
      "グランド ソレイユ\n",
      "グレイスコート寿宝\n",
      "クロストーン町屋\n",
      "グラントレゾール西日暮里\n",
      "東京メトロ千代田線 西日暮里駅 11階建 築11年\n",
      "プラカーサ\n",
      "プライムアーバン町屋サウスコート\n",
      "La Fleur（ラ　フルール）\n",
      "DIPS西日暮里\n",
      "クレヴィアリグゼ日暮里\n",
      "ORME COURT NIPPORI EAST\n",
      "プリムヴェール西尾久 メゾンB\n",
      "ＪＲ山手線 日暮里駅 14階建 築12年\n",
      "メインステージ東日暮里\n",
      "レジェンド日暮里II\n",
      "ルミエール西綾瀬\n",
      "イーストエンジェル青山 A棟\n",
      "パークヒル青砥\n",
      "リヴィエール\n",
      "フォンテ　パシフィック\n",
      "（仮称）金町5丁目メゾン\n",
      "ルフレ リバーサイド町屋\n",
      "シャンサール船堀\n",
      "アージュリブレ東四つ木\n",
      "ソフィア葛西\n",
      "ソシア西葛西\n",
      "b′CASA Prazer Odai\n",
      "elan.de.AK(エランドエーケー)\n",
      "グランシャリオ三ノ輪\n",
      "東京メトロ日比谷線 三ノ輪駅 6階建 築33年\n",
      "Ｆ・Ｄ　ＶＩＬＬＥ\n",
      "Lovely Rosa\n",
      "高砂テラス\n",
      "エスポワールアヤセ\n",
      "ロイヤルパークスシーサー\n",
      "ｓｕｃｃｅｓｓ\n",
      "ＪＲ山手線 鶯谷駅 11階建 築5年\n",
      "アーバンレックス西新井\n",
      "ヴェルデストゥーディオ\n",
      "trias.K\n",
      "パスレル秀栄\n",
      "Priere\n",
      "マークスタワー\n",
      "リラシオン\n",
      "アルトジャルダン\n"
     ]
    }
   ],
   "source": [
    "for url in urls:\n",
    "    result = requests.get(url)\n",
    "    content = result.content\n",
    "    soup = BeautifulSoup(content)\n",
    "    house_list = soup.find('div', {'id': 'js-bukkenList'})\n",
    "    cassette_items = house_list.find_all('div', {'class': 'cassetteitem'})\n",
    "    \n",
    "    for cassette in cassette_items:\n",
    "        n_room = len(cassette.find_all('tbody'))\n",
    "        house_name = str(cassette.find('div', {'class': 'cassetteitem_content-title'}).text)\n",
    "        house_address = str(cassette.find('div', {'class': 'cassetteitem_detail-col1'}).text)\n",
    "        \n",
    "        for i in range(n_room):\n",
    "            name.append(house_name)\n",
    "            address.append(house_address)\n",
    "        \n",
    "        station_list = cassette.find('div', {'class': 'cassetteitem_detail-col2'}).text.strip().split()\n",
    "        \n",
    "        \n",
    "time.sleep(10)"
   ]
  },
  {
   "cell_type": "code",
   "execution_count": null,
   "id": "ed64057f",
   "metadata": {},
   "outputs": [],
   "source": []
  },
  {
   "cell_type": "code",
   "execution_count": null,
   "id": "a3458252",
   "metadata": {},
   "outputs": [],
   "source": []
  },
  {
   "cell_type": "code",
   "execution_count": null,
   "id": "790c09bf",
   "metadata": {},
   "outputs": [],
   "source": []
  }
 ],
 "metadata": {
  "kernelspec": {
   "display_name": "Python 3 (ipykernel)",
   "language": "python",
   "name": "python3"
  },
  "language_info": {
   "codemirror_mode": {
    "name": "ipython",
    "version": 3
   },
   "file_extension": ".py",
   "mimetype": "text/x-python",
   "name": "python",
   "nbconvert_exporter": "python",
   "pygments_lexer": "ipython3",
   "version": "3.9.6"
  }
 },
 "nbformat": 4,
 "nbformat_minor": 5
}
